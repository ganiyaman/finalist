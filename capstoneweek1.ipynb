{
 "cells": [
  {
   "cell_type": "markdown",
   "metadata": {},
   "source": [
    "# Capstone Project - The Battle of Neighborhoods"
   ]
  },
  {
   "cell_type": "markdown",
   "metadata": {},
   "source": [
    "### Week 1 - Part 1. Introduciton: Business Problem"
   ]
  },
  {
   "cell_type": "markdown",
   "metadata": {},
   "source": [
    " Istanbul is the most populated city in Turkey with an increasing migration constantly.  In order to meet the needs of the growing population, new amnesties establishes continuously,thus, arises new opportunities for enterprenuers. The aim of this project is the get insight for business purposes to find the best location to start a business like restaurants, cafe, arcade centers, and to get the best possible  profitability out of the investment. \n",
    "\n",
    "The tool that will be utilized in this project is the Foursquare API. The geographical data acquired from Foursquare API will be used to access the venues information and so to compare the neighborhoods by applying clustering algorithms and finally to choose best option among boroughs. "
   ]
  },
  {
   "cell_type": "markdown",
   "metadata": {},
   "source": [
    "### Week 1- Part 2. Description of the Data "
   ]
  },
  {
   "cell_type": "markdown",
   "metadata": {},
   "source": [
    "Istanbul has 39 districts in total. The coordiantes of the boroughs of Istanbul attained from the Second-level Administrative Divisions of the Turkey from Spatial Data Repository of NYU. Also, the venues information of the boroughs are attained from Foursquare API. Furthermore, the center coordinates of the each Borough is determined by using Google Map, 'Search Nearby' option.\n",
    "\n",
    "I will be using K-Means clustering model to analyze different clusters of boroughs and evaluate the venue information to establish a model which will determine the best location to start a business in Istanbul\n"
   ]
  }
 ],
 "metadata": {
  "kernelspec": {
   "display_name": "Python 3",
   "language": "python",
   "name": "python3"
  },
  "language_info": {
   "codemirror_mode": {
    "name": "ipython",
    "version": 3
   },
   "file_extension": ".py",
   "mimetype": "text/x-python",
   "name": "python",
   "nbconvert_exporter": "python",
   "pygments_lexer": "ipython3",
   "version": "3.8.5"
  }
 },
 "nbformat": 4,
 "nbformat_minor": 4
}
